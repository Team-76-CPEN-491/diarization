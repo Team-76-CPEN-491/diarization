{
  "cells": [
    {
      "cell_type": "code",
      "execution_count": 1,
      "metadata": {
        "colab": {
          "base_uri": "https://localhost:8080/"
        },
        "id": "FDbba22DlLG7",
        "outputId": "423e906b-1f6f-404e-cc2a-1d1412aa33c1"
      },
      "outputs": [
        {
          "output_type": "stream",
          "name": "stdout",
          "text": [
            "Requirement already satisfied: sentencepiece in /usr/local/lib/python3.10/dist-packages (0.2.0)\n",
            "Requirement already satisfied: torch in /usr/local/lib/python3.10/dist-packages (2.5.0+cu121)\n",
            "Requirement already satisfied: filelock in /usr/local/lib/python3.10/dist-packages (from torch) (3.16.1)\n",
            "Requirement already satisfied: typing-extensions>=4.8.0 in /usr/local/lib/python3.10/dist-packages (from torch) (4.12.2)\n",
            "Requirement already satisfied: networkx in /usr/local/lib/python3.10/dist-packages (from torch) (3.4.2)\n",
            "Requirement already satisfied: jinja2 in /usr/local/lib/python3.10/dist-packages (from torch) (3.1.4)\n",
            "Requirement already satisfied: fsspec in /usr/local/lib/python3.10/dist-packages (from torch) (2024.10.0)\n",
            "Requirement already satisfied: sympy==1.13.1 in /usr/local/lib/python3.10/dist-packages (from torch) (1.13.1)\n",
            "Requirement already satisfied: mpmath<1.4,>=1.1.0 in /usr/local/lib/python3.10/dist-packages (from sympy==1.13.1->torch) (1.3.0)\n",
            "Requirement already satisfied: MarkupSafe>=2.0 in /usr/local/lib/python3.10/dist-packages (from jinja2->torch) (3.0.2)\n",
            "Collecting git+https://github.com/huggingface/transformers.git\n",
            "  Cloning https://github.com/huggingface/transformers.git to /tmp/pip-req-build-tdho4r79\n",
            "  Running command git clone --filter=blob:none --quiet https://github.com/huggingface/transformers.git /tmp/pip-req-build-tdho4r79\n",
            "  Resolved https://github.com/huggingface/transformers.git to commit 7bbc62474391aff64f63fcc064c975752d1fa4de\n",
            "  Installing build dependencies ... \u001b[?25l\u001b[?25hdone\n",
            "  Getting requirements to build wheel ... \u001b[?25l\u001b[?25hdone\n",
            "  Preparing metadata (pyproject.toml) ... \u001b[?25l\u001b[?25hdone\n",
            "Requirement already satisfied: filelock in /usr/local/lib/python3.10/dist-packages (from transformers==4.47.0.dev0) (3.16.1)\n",
            "Requirement already satisfied: huggingface-hub<1.0,>=0.23.2 in /usr/local/lib/python3.10/dist-packages (from transformers==4.47.0.dev0) (0.24.7)\n",
            "Requirement already satisfied: numpy>=1.17 in /usr/local/lib/python3.10/dist-packages (from transformers==4.47.0.dev0) (1.26.4)\n",
            "Requirement already satisfied: packaging>=20.0 in /usr/local/lib/python3.10/dist-packages (from transformers==4.47.0.dev0) (24.1)\n",
            "Requirement already satisfied: pyyaml>=5.1 in /usr/local/lib/python3.10/dist-packages (from transformers==4.47.0.dev0) (6.0.2)\n",
            "Requirement already satisfied: regex!=2019.12.17 in /usr/local/lib/python3.10/dist-packages (from transformers==4.47.0.dev0) (2024.9.11)\n",
            "Requirement already satisfied: requests in /usr/local/lib/python3.10/dist-packages (from transformers==4.47.0.dev0) (2.32.3)\n",
            "Requirement already satisfied: tokenizers<0.21,>=0.20 in /usr/local/lib/python3.10/dist-packages (from transformers==4.47.0.dev0) (0.20.3)\n",
            "Requirement already satisfied: safetensors>=0.4.1 in /usr/local/lib/python3.10/dist-packages (from transformers==4.47.0.dev0) (0.4.5)\n",
            "Requirement already satisfied: tqdm>=4.27 in /usr/local/lib/python3.10/dist-packages (from transformers==4.47.0.dev0) (4.66.6)\n",
            "Requirement already satisfied: fsspec>=2023.5.0 in /usr/local/lib/python3.10/dist-packages (from huggingface-hub<1.0,>=0.23.2->transformers==4.47.0.dev0) (2024.10.0)\n",
            "Requirement already satisfied: typing-extensions>=3.7.4.3 in /usr/local/lib/python3.10/dist-packages (from huggingface-hub<1.0,>=0.23.2->transformers==4.47.0.dev0) (4.12.2)\n",
            "Requirement already satisfied: charset-normalizer<4,>=2 in /usr/local/lib/python3.10/dist-packages (from requests->transformers==4.47.0.dev0) (3.4.0)\n",
            "Requirement already satisfied: idna<4,>=2.5 in /usr/local/lib/python3.10/dist-packages (from requests->transformers==4.47.0.dev0) (3.10)\n",
            "Requirement already satisfied: urllib3<3,>=1.21.1 in /usr/local/lib/python3.10/dist-packages (from requests->transformers==4.47.0.dev0) (2.2.3)\n",
            "Requirement already satisfied: certifi>=2017.4.17 in /usr/local/lib/python3.10/dist-packages (from requests->transformers==4.47.0.dev0) (2024.8.30)\n"
          ]
        }
      ],
      "source": [
        "# Colab: Install Required Libraries\n",
        "!pip install  sentencepiece torch\n",
        "!pip install git+https://github.com/huggingface/transformers.git"
      ]
    },
    {
      "cell_type": "code",
      "execution_count": 2,
      "metadata": {
        "id": "H1JwoNI7mFc7"
      },
      "outputs": [],
      "source": [
        "# Import Necessary Libraries\n",
        "import torch\n",
        "from huggingface_hub import login\n",
        "from google.colab import userdata\n",
        "from transformers import AutoTokenizer, AutoModelForCausalLM"
      ]
    },
    {
      "cell_type": "code",
      "execution_count": 2,
      "metadata": {
        "id": "zdBLKYvlmIZO"
      },
      "outputs": [],
      "source": []
    },
    {
      "cell_type": "code",
      "execution_count": 3,
      "metadata": {
        "colab": {
          "base_uri": "https://localhost:8080/"
        },
        "id": "hndrs0Kyo1un",
        "outputId": "00674851-8278-4748-bc5e-d43df938cdff"
      },
      "outputs": [
        {
          "output_type": "stream",
          "name": "stdout",
          "text": [
            "The token has not been saved to the git credentials helper. Pass `add_to_git_credential=True` in this function directly or `--add-to-git-credential` if using via `huggingface-cli` if you want to set the git credential as well.\n",
            "Token is valid (permission: fineGrained).\n",
            "Your token has been saved to /root/.cache/huggingface/token\n",
            "Login successful\n"
          ]
        }
      ],
      "source": [
        "hf_token = userdata.get('HF_TOKEN')\n",
        "login(hf_token)"
      ]
    },
    {
      "cell_type": "code",
      "source": [
        "# Load Prompt from a File\n",
        "file_path = \"call_114.txt\"\n",
        "file_name = file_path.split(\"/\")[-1].split(\".\")[0]\n",
        "with open(file_path, 'r') as file:\n",
        "    prompt = file.read()"
      ],
      "metadata": {
        "id": "36Ndo3F7sBDR"
      },
      "execution_count": 4,
      "outputs": []
    },
    {
      "cell_type": "code",
      "execution_count": 5,
      "metadata": {
        "id": "qM1TVBlMmmnc",
        "colab": {
          "base_uri": "https://localhost:8080/",
          "height": 66,
          "referenced_widgets": [
            "3eb58f1cbe7b46e19d90f6f1408ec879",
            "6aa90857c9894d03b3af4d322c8abe07",
            "fa888c163a3e4f46a9a1c7ad35837804",
            "c47ab18ee4a148ef8d721a0af0fe1231",
            "7b6268928a194aaa86f13dcf3874a66f",
            "6b9c4907d774422f96763c43b6898525",
            "4311857cfac64f80b460316cbf79aad2",
            "998e981388d9451fbe014fa3a5d74f3b",
            "d141cecfacf841f4809601820648c8fc",
            "81fd2985cdb24a42aa07818e39d6fb56",
            "a958e4ef1236409cb0b4746ccde90163"
          ]
        },
        "outputId": "d69337fa-146c-4512-e085-ae8dfb94bfe7"
      },
      "outputs": [
        {
          "output_type": "display_data",
          "data": {
            "text/plain": [
              "Loading checkpoint shards:   0%|          | 0/2 [00:00<?, ?it/s]"
            ],
            "application/vnd.jupyter.widget-view+json": {
              "version_major": 2,
              "version_minor": 0,
              "model_id": "3eb58f1cbe7b46e19d90f6f1408ec879"
            }
          },
          "metadata": {}
        },
        {
          "output_type": "stream",
          "name": "stderr",
          "text": [
            "Device set to use cuda\n"
          ]
        }
      ],
      "source": [
        "from transformers import pipeline\n",
        "import torch\n",
        "\n",
        "model_id = \"meta-llama/Llama-3.2-3B-Instruct\"\n",
        "\n",
        "pipe = pipeline(\n",
        "    \"text-generation\",\n",
        "    model=model_id,\n",
        "    model_kwargs={\"torch_dtype\": torch.bfloat16},\n",
        "    device=\"cuda\",\n",
        ")"
      ]
    },
    {
      "cell_type": "code",
      "source": [
        "messages = [\n",
        "    {\"role\": \"system\", \"content\": \"You are an specialist at text diarization of 911 emergency audio call\"},\n",
        "    {\"role\": \"user\", \"content\": prompt },\n",
        "]"
      ],
      "metadata": {
        "id": "6cBqL7zBu3R3"
      },
      "execution_count": 6,
      "outputs": []
    },
    {
      "cell_type": "code",
      "source": [
        "terminators = [\n",
        "    pipe.tokenizer.eos_token_id,\n",
        "    pipe.tokenizer.convert_tokens_to_ids(\"<|eot_id|>\")\n",
        "]\n",
        "\n",
        "outputs = pipe(\n",
        "    messages,\n",
        "    max_new_tokens=10000,\n",
        "    eos_token_id=terminators,\n",
        "    top_p=0.9,\n",
        ")\n",
        "assistant_response = outputs[0][\"generated_text\"][-1][\"content\"]\n",
        "print(assistant_response)"
      ],
      "metadata": {
        "colab": {
          "base_uri": "https://localhost:8080/"
        },
        "id": "lSwPLcgT00Ut",
        "outputId": "f9477d94-b6b2-414d-deab-f02ac2ae6f85"
      },
      "execution_count": 7,
      "outputs": [
        {
          "output_type": "stream",
          "name": "stderr",
          "text": [
            "Setting `pad_token_id` to `eos_token_id`:None for open-end generation.\n"
          ]
        },
        {
          "output_type": "stream",
          "name": "stdout",
          "text": [
            "[0.00,6.30], Caller, Call 911.\n",
            "[6.30,8.30], Caller, Hello?\n",
            "[8.30,10.30], Caller, Hello 911?\n",
            "[10.30,12.30], Caller, I need help.\n",
            "[12.30,16.30], Caller, What happened? Can you get him to call?\n",
            "[16.30,18.30], Caller, Call 911.\n",
            "[18.30,20.30], Caller, Does he need a...\n",
            "[20.30,22.30], Caller, He needs to run away.\n",
            "[24.30,27.30], Caller, Does he need an ambulance or police?\n",
            "[27.30,29.30], Caller, Okay.\n",
            "[29.30,31.30], Caller, Ambulance or police?\n",
            "[31.30,33.30], Caller, Ma'am?\n",
            "[33.30,35.30], Caller, Hello?\n",
            "[43.30,59.30], Caller, Friday, January 28, 2011. The time, 1014 AM.\n",
            "[59.30,61.30], Caller, Hello?\n",
            "[61.30,63.30], Caller, Hi, can I talk to your dad?\n",
            "[63.30,65.30], Caller, Daddy, help!\n",
            "[65.30,67.30], Caller, Okay, does he need an ambulance or police?\n",
            "[67.30,69.30], Caller, Okay.\n",
            "[69.30,71.30], Caller, No, ask him. Does he need police?\n",
            "[71.30,75.30], Caller, If anybody gets right to you, you have to come right away. Okay?\n",
            "[75.30,78.30], Caller, Ask him if he needs police or ambulance.\n",
            "[78.30,80.30], Caller, It's okay. It's okay.\n",
            "[80.30,82.30], Caller, No, can I talk to him?\n",
            "[82.30,85.30], Caller, Just calm down. I'm talking. It's okay.\n",
            "[85.30,87.30], Caller, Does he need an ambulance?\n",
            "[87.30,89.80], Caller, I can't even talk right now. Bye.\n",
            "[89.80,92.80], Caller, Okay, stay on the phone. Stay on the phone with me, okay?\n",
            "[92.80,99.30], Caller, Friday, January 28, 2011. The time, 1015 AM.\n",
            "[99.30,114.80], 911 Operator, Hello?\n",
            "[114.80,115.80], 911 Operator, Hello?\n",
            "[115.80,116.30], 911 Operator, Hello?\n",
            "[116.30,117.52], 911 Operator, Stay on the phone.\n",
            "[118.66,120.78], 911 Operator, Sir, do you need an ambulance?\n",
            "[121.60,122.70], 911 Operator, Okay, they're on their way.\n",
            "[126.40,128.36], 911 Operator, Okay, the police are...\n",
            "[128.36,132.06], 911 Operator, Can you unlock the door for me?\n",
            "[132.72,133.08], 911 Operator, Okay.\n",
            "[133.62,134.92], 911 Operator, No, stay on the phone.\n",
            "[135.20,136.14], 911 Operator, Keep the phone open.\n",
            "[136.86,137.56], 911 Operator, Put the phone down.\n",
            "[139.02,142.64], 911 Operator, Put the phone down and go open the door, okay?\n",
            "[143.04,143.46], 911 Operator, Okay.\n",
            "[146.30,150.30], 911 Operator, Aaron?\n",
            "[150.30,150.40], 911 Operator, Aaron?\n",
            "[152.08,152.60], 911 Operator, Aaron?\n",
            "[157.12,157.94], 911 Operator, Come in!\n",
            "[160.10,163.10], 911 Operator, What's wrong?\n",
            "[164.72,165.08], 911 Operator, Oh.\n",
            "[167.80,168.50], 911 Operator, What's wrong?\n",
            "[168.50,169.24], 911 Operator, Oh, yeah.\n",
            "[169.38,170.24], 911 Operator, I was trying to...\n",
            "[170.24,171.74], 911 Operator, I said, hey, medics, come in, go through.\n",
            "[172.44,173.12], 911 Operator, Trying to work...\n",
            "[173.12,176.20], 911 Operator, What happened?\n",
            "[176.30,178.80], 911 Operator, I was trying to work on my piece of wood,\n",
            "[178.96,180.56], 911 Operator, the carbon glass.\n",
            "[182.38,182.92], 911 Operator, Hey, buddy.\n",
            "[183.26,184.24], 911 Operator, We'll do it all for you, daddy.\n",
            "[185.14,185.54], 911 Operator, All right.\n",
            "[186.08,187.32], 911 Operator, Put some pressure on it, okay?\n",
            "[187.38,188.50], 911 Operator, Do you have any towels or anything?\n",
            "[188.76,190.04], 911 Operator, There's that red one right there.\n",
            "[190.48,190.84], 911 Operator, Thanks.\n"
          ]
        }
      ]
    },
    {
      "cell_type": "code",
      "source": [
        "import csv\n",
        "\n",
        "rows = [line.replace('\"', '').strip(\"[]\").split(\",\",3) for line in assistant_response.strip().splitlines() if line]\n",
        "\n",
        "# Specify the filename for the CSV file\n",
        "filename = f\"{file_name}_{model_id.replace('/', '_')}.csv\"\n",
        "\n",
        "# Write to CSV\n",
        "with open(filename, mode=\"w\", newline=\"\") as file:\n",
        "    writer = csv.writer(file)\n",
        "    writer.writerows(rows)\n",
        "\n",
        "print(f\"CSV file '{filename}' created successfully.\")"
      ],
      "metadata": {
        "id": "3Lc11hkQ2noA",
        "colab": {
          "base_uri": "https://localhost:8080/"
        },
        "outputId": "d6185e6d-c4b7-4f1c-df37-df09c9882759"
      },
      "execution_count": 8,
      "outputs": [
        {
          "output_type": "stream",
          "name": "stdout",
          "text": [
            "CSV file 'call_114_meta-llama_Llama-3.2-3B-Instruct.csv' created successfully.\n"
          ]
        }
      ]
    },
    {
      "cell_type": "code",
      "source": [],
      "metadata": {
        "id": "WtCldAtg3ED7"
      },
      "execution_count": 8,
      "outputs": []
    }
  ],
  "metadata": {
    "colab": {
      "provenance": [],
      "gpuType": "T4"
    },
    "kernelspec": {
      "display_name": "Python 3",
      "name": "python3"
    },
    "language_info": {
      "name": "python"
    },
    "widgets": {
      "application/vnd.jupyter.widget-state+json": {
        "3eb58f1cbe7b46e19d90f6f1408ec879": {
          "model_module": "@jupyter-widgets/controls",
          "model_name": "HBoxModel",
          "model_module_version": "1.5.0",
          "state": {
            "_dom_classes": [],
            "_model_module": "@jupyter-widgets/controls",
            "_model_module_version": "1.5.0",
            "_model_name": "HBoxModel",
            "_view_count": null,
            "_view_module": "@jupyter-widgets/controls",
            "_view_module_version": "1.5.0",
            "_view_name": "HBoxView",
            "box_style": "",
            "children": [
              "IPY_MODEL_6aa90857c9894d03b3af4d322c8abe07",
              "IPY_MODEL_fa888c163a3e4f46a9a1c7ad35837804",
              "IPY_MODEL_c47ab18ee4a148ef8d721a0af0fe1231"
            ],
            "layout": "IPY_MODEL_7b6268928a194aaa86f13dcf3874a66f"
          }
        },
        "6aa90857c9894d03b3af4d322c8abe07": {
          "model_module": "@jupyter-widgets/controls",
          "model_name": "HTMLModel",
          "model_module_version": "1.5.0",
          "state": {
            "_dom_classes": [],
            "_model_module": "@jupyter-widgets/controls",
            "_model_module_version": "1.5.0",
            "_model_name": "HTMLModel",
            "_view_count": null,
            "_view_module": "@jupyter-widgets/controls",
            "_view_module_version": "1.5.0",
            "_view_name": "HTMLView",
            "description": "",
            "description_tooltip": null,
            "layout": "IPY_MODEL_6b9c4907d774422f96763c43b6898525",
            "placeholder": "​",
            "style": "IPY_MODEL_4311857cfac64f80b460316cbf79aad2",
            "value": "Loading checkpoint shards: 100%"
          }
        },
        "fa888c163a3e4f46a9a1c7ad35837804": {
          "model_module": "@jupyter-widgets/controls",
          "model_name": "FloatProgressModel",
          "model_module_version": "1.5.0",
          "state": {
            "_dom_classes": [],
            "_model_module": "@jupyter-widgets/controls",
            "_model_module_version": "1.5.0",
            "_model_name": "FloatProgressModel",
            "_view_count": null,
            "_view_module": "@jupyter-widgets/controls",
            "_view_module_version": "1.5.0",
            "_view_name": "ProgressView",
            "bar_style": "success",
            "description": "",
            "description_tooltip": null,
            "layout": "IPY_MODEL_998e981388d9451fbe014fa3a5d74f3b",
            "max": 2,
            "min": 0,
            "orientation": "horizontal",
            "style": "IPY_MODEL_d141cecfacf841f4809601820648c8fc",
            "value": 2
          }
        },
        "c47ab18ee4a148ef8d721a0af0fe1231": {
          "model_module": "@jupyter-widgets/controls",
          "model_name": "HTMLModel",
          "model_module_version": "1.5.0",
          "state": {
            "_dom_classes": [],
            "_model_module": "@jupyter-widgets/controls",
            "_model_module_version": "1.5.0",
            "_model_name": "HTMLModel",
            "_view_count": null,
            "_view_module": "@jupyter-widgets/controls",
            "_view_module_version": "1.5.0",
            "_view_name": "HTMLView",
            "description": "",
            "description_tooltip": null,
            "layout": "IPY_MODEL_81fd2985cdb24a42aa07818e39d6fb56",
            "placeholder": "​",
            "style": "IPY_MODEL_a958e4ef1236409cb0b4746ccde90163",
            "value": " 2/2 [00:01&lt;00:00,  1.64it/s]"
          }
        },
        "7b6268928a194aaa86f13dcf3874a66f": {
          "model_module": "@jupyter-widgets/base",
          "model_name": "LayoutModel",
          "model_module_version": "1.2.0",
          "state": {
            "_model_module": "@jupyter-widgets/base",
            "_model_module_version": "1.2.0",
            "_model_name": "LayoutModel",
            "_view_count": null,
            "_view_module": "@jupyter-widgets/base",
            "_view_module_version": "1.2.0",
            "_view_name": "LayoutView",
            "align_content": null,
            "align_items": null,
            "align_self": null,
            "border": null,
            "bottom": null,
            "display": null,
            "flex": null,
            "flex_flow": null,
            "grid_area": null,
            "grid_auto_columns": null,
            "grid_auto_flow": null,
            "grid_auto_rows": null,
            "grid_column": null,
            "grid_gap": null,
            "grid_row": null,
            "grid_template_areas": null,
            "grid_template_columns": null,
            "grid_template_rows": null,
            "height": null,
            "justify_content": null,
            "justify_items": null,
            "left": null,
            "margin": null,
            "max_height": null,
            "max_width": null,
            "min_height": null,
            "min_width": null,
            "object_fit": null,
            "object_position": null,
            "order": null,
            "overflow": null,
            "overflow_x": null,
            "overflow_y": null,
            "padding": null,
            "right": null,
            "top": null,
            "visibility": null,
            "width": null
          }
        },
        "6b9c4907d774422f96763c43b6898525": {
          "model_module": "@jupyter-widgets/base",
          "model_name": "LayoutModel",
          "model_module_version": "1.2.0",
          "state": {
            "_model_module": "@jupyter-widgets/base",
            "_model_module_version": "1.2.0",
            "_model_name": "LayoutModel",
            "_view_count": null,
            "_view_module": "@jupyter-widgets/base",
            "_view_module_version": "1.2.0",
            "_view_name": "LayoutView",
            "align_content": null,
            "align_items": null,
            "align_self": null,
            "border": null,
            "bottom": null,
            "display": null,
            "flex": null,
            "flex_flow": null,
            "grid_area": null,
            "grid_auto_columns": null,
            "grid_auto_flow": null,
            "grid_auto_rows": null,
            "grid_column": null,
            "grid_gap": null,
            "grid_row": null,
            "grid_template_areas": null,
            "grid_template_columns": null,
            "grid_template_rows": null,
            "height": null,
            "justify_content": null,
            "justify_items": null,
            "left": null,
            "margin": null,
            "max_height": null,
            "max_width": null,
            "min_height": null,
            "min_width": null,
            "object_fit": null,
            "object_position": null,
            "order": null,
            "overflow": null,
            "overflow_x": null,
            "overflow_y": null,
            "padding": null,
            "right": null,
            "top": null,
            "visibility": null,
            "width": null
          }
        },
        "4311857cfac64f80b460316cbf79aad2": {
          "model_module": "@jupyter-widgets/controls",
          "model_name": "DescriptionStyleModel",
          "model_module_version": "1.5.0",
          "state": {
            "_model_module": "@jupyter-widgets/controls",
            "_model_module_version": "1.5.0",
            "_model_name": "DescriptionStyleModel",
            "_view_count": null,
            "_view_module": "@jupyter-widgets/base",
            "_view_module_version": "1.2.0",
            "_view_name": "StyleView",
            "description_width": ""
          }
        },
        "998e981388d9451fbe014fa3a5d74f3b": {
          "model_module": "@jupyter-widgets/base",
          "model_name": "LayoutModel",
          "model_module_version": "1.2.0",
          "state": {
            "_model_module": "@jupyter-widgets/base",
            "_model_module_version": "1.2.0",
            "_model_name": "LayoutModel",
            "_view_count": null,
            "_view_module": "@jupyter-widgets/base",
            "_view_module_version": "1.2.0",
            "_view_name": "LayoutView",
            "align_content": null,
            "align_items": null,
            "align_self": null,
            "border": null,
            "bottom": null,
            "display": null,
            "flex": null,
            "flex_flow": null,
            "grid_area": null,
            "grid_auto_columns": null,
            "grid_auto_flow": null,
            "grid_auto_rows": null,
            "grid_column": null,
            "grid_gap": null,
            "grid_row": null,
            "grid_template_areas": null,
            "grid_template_columns": null,
            "grid_template_rows": null,
            "height": null,
            "justify_content": null,
            "justify_items": null,
            "left": null,
            "margin": null,
            "max_height": null,
            "max_width": null,
            "min_height": null,
            "min_width": null,
            "object_fit": null,
            "object_position": null,
            "order": null,
            "overflow": null,
            "overflow_x": null,
            "overflow_y": null,
            "padding": null,
            "right": null,
            "top": null,
            "visibility": null,
            "width": null
          }
        },
        "d141cecfacf841f4809601820648c8fc": {
          "model_module": "@jupyter-widgets/controls",
          "model_name": "ProgressStyleModel",
          "model_module_version": "1.5.0",
          "state": {
            "_model_module": "@jupyter-widgets/controls",
            "_model_module_version": "1.5.0",
            "_model_name": "ProgressStyleModel",
            "_view_count": null,
            "_view_module": "@jupyter-widgets/base",
            "_view_module_version": "1.2.0",
            "_view_name": "StyleView",
            "bar_color": null,
            "description_width": ""
          }
        },
        "81fd2985cdb24a42aa07818e39d6fb56": {
          "model_module": "@jupyter-widgets/base",
          "model_name": "LayoutModel",
          "model_module_version": "1.2.0",
          "state": {
            "_model_module": "@jupyter-widgets/base",
            "_model_module_version": "1.2.0",
            "_model_name": "LayoutModel",
            "_view_count": null,
            "_view_module": "@jupyter-widgets/base",
            "_view_module_version": "1.2.0",
            "_view_name": "LayoutView",
            "align_content": null,
            "align_items": null,
            "align_self": null,
            "border": null,
            "bottom": null,
            "display": null,
            "flex": null,
            "flex_flow": null,
            "grid_area": null,
            "grid_auto_columns": null,
            "grid_auto_flow": null,
            "grid_auto_rows": null,
            "grid_column": null,
            "grid_gap": null,
            "grid_row": null,
            "grid_template_areas": null,
            "grid_template_columns": null,
            "grid_template_rows": null,
            "height": null,
            "justify_content": null,
            "justify_items": null,
            "left": null,
            "margin": null,
            "max_height": null,
            "max_width": null,
            "min_height": null,
            "min_width": null,
            "object_fit": null,
            "object_position": null,
            "order": null,
            "overflow": null,
            "overflow_x": null,
            "overflow_y": null,
            "padding": null,
            "right": null,
            "top": null,
            "visibility": null,
            "width": null
          }
        },
        "a958e4ef1236409cb0b4746ccde90163": {
          "model_module": "@jupyter-widgets/controls",
          "model_name": "DescriptionStyleModel",
          "model_module_version": "1.5.0",
          "state": {
            "_model_module": "@jupyter-widgets/controls",
            "_model_module_version": "1.5.0",
            "_model_name": "DescriptionStyleModel",
            "_view_count": null,
            "_view_module": "@jupyter-widgets/base",
            "_view_module_version": "1.2.0",
            "_view_name": "StyleView",
            "description_width": ""
          }
        }
      }
    },
    "accelerator": "GPU"
  },
  "nbformat": 4,
  "nbformat_minor": 0
}